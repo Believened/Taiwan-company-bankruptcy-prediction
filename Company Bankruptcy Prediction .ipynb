{
 "cells": [
  {
   "cell_type": "markdown",
   "id": "b41a82f9",
   "metadata": {},
   "source": [
    "The data were collected from the Taiwan Economic Journal for the years 1999 to 2009. Company bankruptcy was defined based on the business regulations of the Taiwan Stock Exchange."
   ]
  },
  {
   "cell_type": "code",
   "execution_count": 1,
   "id": "e5fa33ef",
   "metadata": {},
   "outputs": [],
   "source": [
    "#importing libraries\n",
    "#!pip install imbalanced-learn,  only uncomment this if ModuleNotFoundError: No module named 'imblearn' shows up\n",
    "import pandas as pd\n",
    "import numpy as np\n",
    "import seaborn as sns\n",
    "import matplotlib.pyplot as plt\n",
    "from sklearn.model_selection import train_test_split\n",
    "from sklearn.preprocessing import StandardScaler \n",
    "from sklearn.svm import SVC\n",
    "from sklearn.linear_model import LogisticRegression\n",
    "from sklearn.metrics import accuracy_score\n",
    "from imblearn.over_sampling import RandomOverSampler\n",
    "from imblearn.under_sampling import RandomUnderSampler\n",
    "from sklearn.impute import SimpleImputer\n",
    "from sklearn.ensemble import RandomForestClassifier\n",
    "from sklearn.metrics import ConfusionMatrixDisplay\n",
    "from sklearn.model_selection import cross_val_score, train_test_split\n",
    "from sklearn.pipeline import make_pipeline\n",
    "from sklearn.tree import DecisionTreeClassifier"
   ]
  },
  {
   "cell_type": "code",
   "execution_count": 2,
   "id": "9404b647",
   "metadata": {},
   "outputs": [],
   "source": [
    "#Reading the data into a dataframe\n",
    "data= pd.read_csv(\"C:/Users/HP/Downloads/archive (2)/data.csv\")"
   ]
  },
  {
   "cell_type": "code",
   "execution_count": 3,
   "id": "ce209d6f",
   "metadata": {},
   "outputs": [
    {
     "data": {
      "text/html": [
       "<div>\n",
       "<style scoped>\n",
       "    .dataframe tbody tr th:only-of-type {\n",
       "        vertical-align: middle;\n",
       "    }\n",
       "\n",
       "    .dataframe tbody tr th {\n",
       "        vertical-align: top;\n",
       "    }\n",
       "\n",
       "    .dataframe thead th {\n",
       "        text-align: right;\n",
       "    }\n",
       "</style>\n",
       "<table border=\"1\" class=\"dataframe\">\n",
       "  <thead>\n",
       "    <tr style=\"text-align: right;\">\n",
       "      <th></th>\n",
       "      <th>Bankrupt?</th>\n",
       "      <th>ROA(C) before interest and depreciation before interest</th>\n",
       "      <th>ROA(A) before interest and % after tax</th>\n",
       "      <th>ROA(B) before interest and depreciation after tax</th>\n",
       "      <th>Operating Gross Margin</th>\n",
       "      <th>Realized Sales Gross Margin</th>\n",
       "      <th>Operating Profit Rate</th>\n",
       "      <th>Pre-tax net Interest Rate</th>\n",
       "      <th>After-tax net Interest Rate</th>\n",
       "      <th>Non-industry income and expenditure/revenue</th>\n",
       "      <th>...</th>\n",
       "      <th>Net Income to Total Assets</th>\n",
       "      <th>Total assets to GNP price</th>\n",
       "      <th>No-credit Interval</th>\n",
       "      <th>Gross Profit to Sales</th>\n",
       "      <th>Net Income to Stockholder's Equity</th>\n",
       "      <th>Liability to Equity</th>\n",
       "      <th>Degree of Financial Leverage (DFL)</th>\n",
       "      <th>Interest Coverage Ratio (Interest expense to EBIT)</th>\n",
       "      <th>Net Income Flag</th>\n",
       "      <th>Equity to Liability</th>\n",
       "    </tr>\n",
       "  </thead>\n",
       "  <tbody>\n",
       "    <tr>\n",
       "      <th>0</th>\n",
       "      <td>1</td>\n",
       "      <td>0.370594</td>\n",
       "      <td>0.424389</td>\n",
       "      <td>0.405750</td>\n",
       "      <td>0.601457</td>\n",
       "      <td>0.601457</td>\n",
       "      <td>0.998969</td>\n",
       "      <td>0.796887</td>\n",
       "      <td>0.808809</td>\n",
       "      <td>0.302646</td>\n",
       "      <td>...</td>\n",
       "      <td>0.716845</td>\n",
       "      <td>0.009219</td>\n",
       "      <td>0.622879</td>\n",
       "      <td>0.601453</td>\n",
       "      <td>0.827890</td>\n",
       "      <td>0.290202</td>\n",
       "      <td>0.026601</td>\n",
       "      <td>0.564050</td>\n",
       "      <td>1</td>\n",
       "      <td>0.016469</td>\n",
       "    </tr>\n",
       "    <tr>\n",
       "      <th>1</th>\n",
       "      <td>1</td>\n",
       "      <td>0.464291</td>\n",
       "      <td>0.538214</td>\n",
       "      <td>0.516730</td>\n",
       "      <td>0.610235</td>\n",
       "      <td>0.610235</td>\n",
       "      <td>0.998946</td>\n",
       "      <td>0.797380</td>\n",
       "      <td>0.809301</td>\n",
       "      <td>0.303556</td>\n",
       "      <td>...</td>\n",
       "      <td>0.795297</td>\n",
       "      <td>0.008323</td>\n",
       "      <td>0.623652</td>\n",
       "      <td>0.610237</td>\n",
       "      <td>0.839969</td>\n",
       "      <td>0.283846</td>\n",
       "      <td>0.264577</td>\n",
       "      <td>0.570175</td>\n",
       "      <td>1</td>\n",
       "      <td>0.020794</td>\n",
       "    </tr>\n",
       "    <tr>\n",
       "      <th>2</th>\n",
       "      <td>1</td>\n",
       "      <td>0.426071</td>\n",
       "      <td>0.499019</td>\n",
       "      <td>0.472295</td>\n",
       "      <td>0.601450</td>\n",
       "      <td>0.601364</td>\n",
       "      <td>0.998857</td>\n",
       "      <td>0.796403</td>\n",
       "      <td>0.808388</td>\n",
       "      <td>0.302035</td>\n",
       "      <td>...</td>\n",
       "      <td>0.774670</td>\n",
       "      <td>0.040003</td>\n",
       "      <td>0.623841</td>\n",
       "      <td>0.601449</td>\n",
       "      <td>0.836774</td>\n",
       "      <td>0.290189</td>\n",
       "      <td>0.026555</td>\n",
       "      <td>0.563706</td>\n",
       "      <td>1</td>\n",
       "      <td>0.016474</td>\n",
       "    </tr>\n",
       "    <tr>\n",
       "      <th>3</th>\n",
       "      <td>1</td>\n",
       "      <td>0.399844</td>\n",
       "      <td>0.451265</td>\n",
       "      <td>0.457733</td>\n",
       "      <td>0.583541</td>\n",
       "      <td>0.583541</td>\n",
       "      <td>0.998700</td>\n",
       "      <td>0.796967</td>\n",
       "      <td>0.808966</td>\n",
       "      <td>0.303350</td>\n",
       "      <td>...</td>\n",
       "      <td>0.739555</td>\n",
       "      <td>0.003252</td>\n",
       "      <td>0.622929</td>\n",
       "      <td>0.583538</td>\n",
       "      <td>0.834697</td>\n",
       "      <td>0.281721</td>\n",
       "      <td>0.026697</td>\n",
       "      <td>0.564663</td>\n",
       "      <td>1</td>\n",
       "      <td>0.023982</td>\n",
       "    </tr>\n",
       "    <tr>\n",
       "      <th>4</th>\n",
       "      <td>1</td>\n",
       "      <td>0.465022</td>\n",
       "      <td>0.538432</td>\n",
       "      <td>0.522298</td>\n",
       "      <td>0.598783</td>\n",
       "      <td>0.598783</td>\n",
       "      <td>0.998973</td>\n",
       "      <td>0.797366</td>\n",
       "      <td>0.809304</td>\n",
       "      <td>0.303475</td>\n",
       "      <td>...</td>\n",
       "      <td>0.795016</td>\n",
       "      <td>0.003878</td>\n",
       "      <td>0.623521</td>\n",
       "      <td>0.598782</td>\n",
       "      <td>0.839973</td>\n",
       "      <td>0.278514</td>\n",
       "      <td>0.024752</td>\n",
       "      <td>0.575617</td>\n",
       "      <td>1</td>\n",
       "      <td>0.035490</td>\n",
       "    </tr>\n",
       "  </tbody>\n",
       "</table>\n",
       "<p>5 rows × 96 columns</p>\n",
       "</div>"
      ],
      "text/plain": [
       "   Bankrupt?   ROA(C) before interest and depreciation before interest  \\\n",
       "0          1                                           0.370594          \n",
       "1          1                                           0.464291          \n",
       "2          1                                           0.426071          \n",
       "3          1                                           0.399844          \n",
       "4          1                                           0.465022          \n",
       "\n",
       "    ROA(A) before interest and % after tax  \\\n",
       "0                                 0.424389   \n",
       "1                                 0.538214   \n",
       "2                                 0.499019   \n",
       "3                                 0.451265   \n",
       "4                                 0.538432   \n",
       "\n",
       "    ROA(B) before interest and depreciation after tax  \\\n",
       "0                                           0.405750    \n",
       "1                                           0.516730    \n",
       "2                                           0.472295    \n",
       "3                                           0.457733    \n",
       "4                                           0.522298    \n",
       "\n",
       "    Operating Gross Margin   Realized Sales Gross Margin  \\\n",
       "0                 0.601457                      0.601457   \n",
       "1                 0.610235                      0.610235   \n",
       "2                 0.601450                      0.601364   \n",
       "3                 0.583541                      0.583541   \n",
       "4                 0.598783                      0.598783   \n",
       "\n",
       "    Operating Profit Rate   Pre-tax net Interest Rate  \\\n",
       "0                0.998969                    0.796887   \n",
       "1                0.998946                    0.797380   \n",
       "2                0.998857                    0.796403   \n",
       "3                0.998700                    0.796967   \n",
       "4                0.998973                    0.797366   \n",
       "\n",
       "    After-tax net Interest Rate   Non-industry income and expenditure/revenue  \\\n",
       "0                      0.808809                                      0.302646   \n",
       "1                      0.809301                                      0.303556   \n",
       "2                      0.808388                                      0.302035   \n",
       "3                      0.808966                                      0.303350   \n",
       "4                      0.809304                                      0.303475   \n",
       "\n",
       "   ...   Net Income to Total Assets   Total assets to GNP price  \\\n",
       "0  ...                     0.716845                    0.009219   \n",
       "1  ...                     0.795297                    0.008323   \n",
       "2  ...                     0.774670                    0.040003   \n",
       "3  ...                     0.739555                    0.003252   \n",
       "4  ...                     0.795016                    0.003878   \n",
       "\n",
       "    No-credit Interval   Gross Profit to Sales  \\\n",
       "0             0.622879                0.601453   \n",
       "1             0.623652                0.610237   \n",
       "2             0.623841                0.601449   \n",
       "3             0.622929                0.583538   \n",
       "4             0.623521                0.598782   \n",
       "\n",
       "    Net Income to Stockholder's Equity   Liability to Equity  \\\n",
       "0                             0.827890              0.290202   \n",
       "1                             0.839969              0.283846   \n",
       "2                             0.836774              0.290189   \n",
       "3                             0.834697              0.281721   \n",
       "4                             0.839973              0.278514   \n",
       "\n",
       "    Degree of Financial Leverage (DFL)  \\\n",
       "0                             0.026601   \n",
       "1                             0.264577   \n",
       "2                             0.026555   \n",
       "3                             0.026697   \n",
       "4                             0.024752   \n",
       "\n",
       "    Interest Coverage Ratio (Interest expense to EBIT)   Net Income Flag  \\\n",
       "0                                           0.564050                   1   \n",
       "1                                           0.570175                   1   \n",
       "2                                           0.563706                   1   \n",
       "3                                           0.564663                   1   \n",
       "4                                           0.575617                   1   \n",
       "\n",
       "    Equity to Liability  \n",
       "0              0.016469  \n",
       "1              0.020794  \n",
       "2              0.016474  \n",
       "3              0.023982  \n",
       "4              0.035490  \n",
       "\n",
       "[5 rows x 96 columns]"
      ]
     },
     "execution_count": 3,
     "metadata": {},
     "output_type": "execute_result"
    }
   ],
   "source": [
    "#checking the data\n",
    "data.head()"
   ]
  },
  {
   "cell_type": "code",
   "execution_count": 4,
   "id": "134d83fa",
   "metadata": {},
   "outputs": [
    {
     "name": "stdout",
     "output_type": "stream",
     "text": [
      "<class 'pandas.core.frame.DataFrame'>\n",
      "RangeIndex: 6819 entries, 0 to 6818\n",
      "Data columns (total 96 columns):\n",
      " #   Column                                                    Non-Null Count  Dtype  \n",
      "---  ------                                                    --------------  -----  \n",
      " 0   Bankrupt?                                                 6819 non-null   int64  \n",
      " 1    ROA(C) before interest and depreciation before interest  6819 non-null   float64\n",
      " 2    ROA(A) before interest and % after tax                   6819 non-null   float64\n",
      " 3    ROA(B) before interest and depreciation after tax        6819 non-null   float64\n",
      " 4    Operating Gross Margin                                   6819 non-null   float64\n",
      " 5    Realized Sales Gross Margin                              6819 non-null   float64\n",
      " 6    Operating Profit Rate                                    6819 non-null   float64\n",
      " 7    Pre-tax net Interest Rate                                6819 non-null   float64\n",
      " 8    After-tax net Interest Rate                              6819 non-null   float64\n",
      " 9    Non-industry income and expenditure/revenue              6819 non-null   float64\n",
      " 10   Continuous interest rate (after tax)                     6819 non-null   float64\n",
      " 11   Operating Expense Rate                                   6819 non-null   float64\n",
      " 12   Research and development expense rate                    6819 non-null   float64\n",
      " 13   Cash flow rate                                           6819 non-null   float64\n",
      " 14   Interest-bearing debt interest rate                      6819 non-null   float64\n",
      " 15   Tax rate (A)                                             6819 non-null   float64\n",
      " 16   Net Value Per Share (B)                                  6819 non-null   float64\n",
      " 17   Net Value Per Share (A)                                  6819 non-null   float64\n",
      " 18   Net Value Per Share (C)                                  6819 non-null   float64\n",
      " 19   Persistent EPS in the Last Four Seasons                  6819 non-null   float64\n",
      " 20   Cash Flow Per Share                                      6819 non-null   float64\n",
      " 21   Revenue Per Share (Yuan ¥)                               6819 non-null   float64\n",
      " 22   Operating Profit Per Share (Yuan ¥)                      6819 non-null   float64\n",
      " 23   Per Share Net profit before tax (Yuan ¥)                 6819 non-null   float64\n",
      " 24   Realized Sales Gross Profit Growth Rate                  6819 non-null   float64\n",
      " 25   Operating Profit Growth Rate                             6819 non-null   float64\n",
      " 26   After-tax Net Profit Growth Rate                         6819 non-null   float64\n",
      " 27   Regular Net Profit Growth Rate                           6819 non-null   float64\n",
      " 28   Continuous Net Profit Growth Rate                        6819 non-null   float64\n",
      " 29   Total Asset Growth Rate                                  6819 non-null   float64\n",
      " 30   Net Value Growth Rate                                    6819 non-null   float64\n",
      " 31   Total Asset Return Growth Rate Ratio                     6819 non-null   float64\n",
      " 32   Cash Reinvestment %                                      6819 non-null   float64\n",
      " 33   Current Ratio                                            6819 non-null   float64\n",
      " 34   Quick Ratio                                              6819 non-null   float64\n",
      " 35   Interest Expense Ratio                                   6819 non-null   float64\n",
      " 36   Total debt/Total net worth                               6819 non-null   float64\n",
      " 37   Debt ratio %                                             6819 non-null   float64\n",
      " 38   Net worth/Assets                                         6819 non-null   float64\n",
      " 39   Long-term fund suitability ratio (A)                     6819 non-null   float64\n",
      " 40   Borrowing dependency                                     6819 non-null   float64\n",
      " 41   Contingent liabilities/Net worth                         6819 non-null   float64\n",
      " 42   Operating profit/Paid-in capital                         6819 non-null   float64\n",
      " 43   Net profit before tax/Paid-in capital                    6819 non-null   float64\n",
      " 44   Inventory and accounts receivable/Net value              6819 non-null   float64\n",
      " 45   Total Asset Turnover                                     6819 non-null   float64\n",
      " 46   Accounts Receivable Turnover                             6819 non-null   float64\n",
      " 47   Average Collection Days                                  6819 non-null   float64\n",
      " 48   Inventory Turnover Rate (times)                          6819 non-null   float64\n",
      " 49   Fixed Assets Turnover Frequency                          6819 non-null   float64\n",
      " 50   Net Worth Turnover Rate (times)                          6819 non-null   float64\n",
      " 51   Revenue per person                                       6819 non-null   float64\n",
      " 52   Operating profit per person                              6819 non-null   float64\n",
      " 53   Allocation rate per person                               6819 non-null   float64\n",
      " 54   Working Capital to Total Assets                          6819 non-null   float64\n",
      " 55   Quick Assets/Total Assets                                6819 non-null   float64\n",
      " 56   Current Assets/Total Assets                              6819 non-null   float64\n",
      " 57   Cash/Total Assets                                        6819 non-null   float64\n",
      " 58   Quick Assets/Current Liability                           6819 non-null   float64\n",
      " 59   Cash/Current Liability                                   6819 non-null   float64\n",
      " 60   Current Liability to Assets                              6819 non-null   float64\n",
      " 61   Operating Funds to Liability                             6819 non-null   float64\n",
      " 62   Inventory/Working Capital                                6819 non-null   float64\n",
      " 63   Inventory/Current Liability                              6819 non-null   float64\n",
      " 64   Current Liabilities/Liability                            6819 non-null   float64\n",
      " 65   Working Capital/Equity                                   6819 non-null   float64\n",
      " 66   Current Liabilities/Equity                               6819 non-null   float64\n",
      " 67   Long-term Liability to Current Assets                    6819 non-null   float64\n",
      " 68   Retained Earnings to Total Assets                        6819 non-null   float64\n",
      " 69   Total income/Total expense                               6819 non-null   float64\n",
      " 70   Total expense/Assets                                     6819 non-null   float64\n",
      " 71   Current Asset Turnover Rate                              6819 non-null   float64\n",
      " 72   Quick Asset Turnover Rate                                6819 non-null   float64\n",
      " 73   Working capitcal Turnover Rate                           6819 non-null   float64\n",
      " 74   Cash Turnover Rate                                       6819 non-null   float64\n",
      " 75   Cash Flow to Sales                                       6819 non-null   float64\n",
      " 76   Fixed Assets to Assets                                   6819 non-null   float64\n",
      " 77   Current Liability to Liability                           6819 non-null   float64\n",
      " 78   Current Liability to Equity                              6819 non-null   float64\n",
      " 79   Equity to Long-term Liability                            6819 non-null   float64\n",
      " 80   Cash Flow to Total Assets                                6819 non-null   float64\n",
      " 81   Cash Flow to Liability                                   6819 non-null   float64\n",
      " 82   CFO to Assets                                            6819 non-null   float64\n",
      " 83   Cash Flow to Equity                                      6819 non-null   float64\n",
      " 84   Current Liability to Current Assets                      6819 non-null   float64\n",
      " 85   Liability-Assets Flag                                    6819 non-null   int64  \n",
      " 86   Net Income to Total Assets                               6819 non-null   float64\n",
      " 87   Total assets to GNP price                                6819 non-null   float64\n",
      " 88   No-credit Interval                                       6819 non-null   float64\n",
      " 89   Gross Profit to Sales                                    6819 non-null   float64\n",
      " 90   Net Income to Stockholder's Equity                       6819 non-null   float64\n",
      " 91   Liability to Equity                                      6819 non-null   float64\n",
      " 92   Degree of Financial Leverage (DFL)                       6819 non-null   float64\n",
      " 93   Interest Coverage Ratio (Interest expense to EBIT)       6819 non-null   float64\n",
      " 94   Net Income Flag                                          6819 non-null   int64  \n",
      " 95   Equity to Liability                                      6819 non-null   float64\n",
      "dtypes: float64(93), int64(3)\n",
      "memory usage: 5.0 MB\n"
     ]
    }
   ],
   "source": [
    "#checking the info of the data\n",
    "data.info()"
   ]
  },
  {
   "cell_type": "code",
   "execution_count": 5,
   "id": "ac4cdc01",
   "metadata": {},
   "outputs": [
    {
     "data": {
      "text/plain": [
       "Bankrupt?                                                   0\n",
       " ROA(C) before interest and depreciation before interest    0\n",
       " ROA(A) before interest and % after tax                     0\n",
       " ROA(B) before interest and depreciation after tax          0\n",
       " Operating Gross Margin                                     0\n",
       "                                                           ..\n",
       " Liability to Equity                                        0\n",
       " Degree of Financial Leverage (DFL)                         0\n",
       " Interest Coverage Ratio (Interest expense to EBIT)         0\n",
       " Net Income Flag                                            0\n",
       " Equity to Liability                                        0\n",
       "Length: 96, dtype: int64"
      ]
     },
     "execution_count": 5,
     "metadata": {},
     "output_type": "execute_result"
    }
   ],
   "source": [
    "#checking for null values\n",
    "data.isnull().sum()"
   ]
  },
  {
   "cell_type": "code",
   "execution_count": 6,
   "id": "334bd097",
   "metadata": {},
   "outputs": [],
   "source": [
    "#removing any duplicates\n",
    "data.drop_duplicates(keep='first',inplace=True)"
   ]
  },
  {
   "cell_type": "code",
   "execution_count": 7,
   "id": "b8fdc716",
   "metadata": {},
   "outputs": [
    {
     "data": {
      "image/png": "[encoded data removed]",
      "text/plain": [
       "<Figure size 432x288 with 1 Axes>"
      ]
     },
     "metadata": {
      "needs_background": "light"
     },
     "output_type": "display_data"
    }
   ],
   "source": [
    "#plot a class balance where 0, indicate \"Not Bankrupt\" and 1 indicate \"Bankrupt\"\n",
    "data[\"Bankrupt?\"].value_counts(normalize=True).plot(kind=\"bar\");"
   ]
  },
  {
   "cell_type": "markdown",
   "id": "eb80705e",
   "metadata": {},
   "source": [
    "From the bar chart above we can observe that the data is imbalanced and thus needs to be over sampled"
   ]
  },
  {
   "cell_type": "code",
   "execution_count": 8,
   "id": "454e915e",
   "metadata": {},
   "outputs": [
    {
     "data": {
      "image/png": "[encoded data removed]",
      "text/plain": [
       "<Figure size 432x288 with 2 Axes>"
      ]
     },
     "metadata": {
      "needs_background": "light"
     },
     "output_type": "display_data"
    }
   ],
   "source": [
    "#plotting a correlation heatmap of features in data\n",
    "corr= data.drop(columns=\"Bankrupt?\").corr()\n",
    "sns.heatmap(corr);"
   ]
  },
  {
   "cell_type": "code",
   "execution_count": 9,
   "id": "78cf0261",
   "metadata": {},
   "outputs": [],
   "source": [
    "#Splitting the data into train and test set\n",
    "#x = data.iloc[:, 1:-1].values\n",
    "#y = data.iloc[:, -1].values"
   ]
  },
  {
   "cell_type": "code",
   "execution_count": 10,
   "id": "a82a2d8d",
   "metadata": {},
   "outputs": [],
   "source": [
    "#splitting data into feature matrix and target vector\n",
    "target= \"Bankrupt?\"\n",
    "x= data.drop(columns=[target])\n",
    "y= data[target]"
   ]
  },
  {
   "cell_type": "code",
   "execution_count": 11,
   "id": "3ee11289",
   "metadata": {},
   "outputs": [
    {
     "name": "stdout",
     "output_type": "stream",
     "text": [
      "Shape for training data (5455, 95) (5455,)\n",
      "Shape for testing data (1364, 95) (1364,)\n"
     ]
    }
   ],
   "source": [
    "#splitting and setting random state to enable reproducibility\n",
    "x_train, x_test, y_train, y_test = train_test_split(x, y, test_size= 0.2, random_state= 42)\n",
    "print('Shape for training data', x_train.shape, y_train.shape)\n",
    "print('Shape for testing data', x_test.shape, y_test.shape)"
   ]
  },
  {
   "cell_type": "markdown",
   "id": "a7976fab",
   "metadata": {},
   "source": [
    "*** Resampling data ***\n",
    "\n",
    "\n",
    "Creating a new feature matrix x_train_under and target vector y_train_under by performing random under sampling on training."
   ]
  },
  {
   "cell_type": "code",
   "execution_count": 12,
   "id": "878f6d9d",
   "metadata": {},
   "outputs": [],
   "source": [
    "#instantiate random sample\n",
    "under_sampler= RandomUnderSampler(random_state=42)"
   ]
  },
  {
   "cell_type": "code",
   "execution_count": 13,
   "id": "aa61883a",
   "metadata": {},
   "outputs": [
    {
     "data": {
      "text/html": [
       "<div>\n",
       "<style scoped>\n",
       "    .dataframe tbody tr th:only-of-type {\n",
       "        vertical-align: middle;\n",
       "    }\n",
       "\n",
       "    .dataframe tbody tr th {\n",
       "        vertical-align: top;\n",
       "    }\n",
       "\n",
       "    .dataframe thead th {\n",
       "        text-align: right;\n",
       "    }\n",
       "</style>\n",
       "<table border=\"1\" class=\"dataframe\">\n",
       "  <thead>\n",
       "    <tr style=\"text-align: right;\">\n",
       "      <th></th>\n",
       "      <th>ROA(C) before interest and depreciation before interest</th>\n",
       "      <th>ROA(A) before interest and % after tax</th>\n",
       "      <th>ROA(B) before interest and depreciation after tax</th>\n",
       "      <th>Operating Gross Margin</th>\n",
       "      <th>Realized Sales Gross Margin</th>\n",
       "      <th>Operating Profit Rate</th>\n",
       "      <th>Pre-tax net Interest Rate</th>\n",
       "      <th>After-tax net Interest Rate</th>\n",
       "      <th>Non-industry income and expenditure/revenue</th>\n",
       "      <th>Continuous interest rate (after tax)</th>\n",
       "      <th>...</th>\n",
       "      <th>Net Income to Total Assets</th>\n",
       "      <th>Total assets to GNP price</th>\n",
       "      <th>No-credit Interval</th>\n",
       "      <th>Gross Profit to Sales</th>\n",
       "      <th>Net Income to Stockholder's Equity</th>\n",
       "      <th>Liability to Equity</th>\n",
       "      <th>Degree of Financial Leverage (DFL)</th>\n",
       "      <th>Interest Coverage Ratio (Interest expense to EBIT)</th>\n",
       "      <th>Net Income Flag</th>\n",
       "      <th>Equity to Liability</th>\n",
       "    </tr>\n",
       "  </thead>\n",
       "  <tbody>\n",
       "    <tr>\n",
       "      <th>0</th>\n",
       "      <td>0.547409</td>\n",
       "      <td>0.597580</td>\n",
       "      <td>0.583757</td>\n",
       "      <td>0.604707</td>\n",
       "      <td>0.604707</td>\n",
       "      <td>0.999089</td>\n",
       "      <td>0.797593</td>\n",
       "      <td>0.809456</td>\n",
       "      <td>0.303629</td>\n",
       "      <td>0.781726</td>\n",
       "      <td>...</td>\n",
       "      <td>0.831586</td>\n",
       "      <td>0.001479</td>\n",
       "      <td>0.624287</td>\n",
       "      <td>0.604706</td>\n",
       "      <td>0.842928</td>\n",
       "      <td>0.279743</td>\n",
       "      <td>0.026801</td>\n",
       "      <td>0.565205</td>\n",
       "      <td>1</td>\n",
       "      <td>0.029354</td>\n",
       "    </tr>\n",
       "    <tr>\n",
       "      <th>1</th>\n",
       "      <td>0.575196</td>\n",
       "      <td>0.622928</td>\n",
       "      <td>0.609187</td>\n",
       "      <td>0.606142</td>\n",
       "      <td>0.606142</td>\n",
       "      <td>0.999085</td>\n",
       "      <td>0.797859</td>\n",
       "      <td>0.809654</td>\n",
       "      <td>0.304102</td>\n",
       "      <td>0.781934</td>\n",
       "      <td>...</td>\n",
       "      <td>0.845096</td>\n",
       "      <td>0.001891</td>\n",
       "      <td>0.624553</td>\n",
       "      <td>0.606139</td>\n",
       "      <td>0.843117</td>\n",
       "      <td>0.277089</td>\n",
       "      <td>0.026791</td>\n",
       "      <td>0.565159</td>\n",
       "      <td>1</td>\n",
       "      <td>0.050445</td>\n",
       "    </tr>\n",
       "    <tr>\n",
       "      <th>2</th>\n",
       "      <td>0.490567</td>\n",
       "      <td>0.552933</td>\n",
       "      <td>0.539483</td>\n",
       "      <td>0.629665</td>\n",
       "      <td>0.629520</td>\n",
       "      <td>0.999108</td>\n",
       "      <td>0.797607</td>\n",
       "      <td>0.809484</td>\n",
       "      <td>0.303613</td>\n",
       "      <td>0.781755</td>\n",
       "      <td>...</td>\n",
       "      <td>0.810341</td>\n",
       "      <td>0.001115</td>\n",
       "      <td>0.624214</td>\n",
       "      <td>0.629664</td>\n",
       "      <td>0.840741</td>\n",
       "      <td>0.275084</td>\n",
       "      <td>0.026791</td>\n",
       "      <td>0.565158</td>\n",
       "      <td>1</td>\n",
       "      <td>0.250781</td>\n",
       "    </tr>\n",
       "    <tr>\n",
       "      <th>3</th>\n",
       "      <td>0.543899</td>\n",
       "      <td>0.598779</td>\n",
       "      <td>0.593180</td>\n",
       "      <td>0.602740</td>\n",
       "      <td>0.602754</td>\n",
       "      <td>0.999041</td>\n",
       "      <td>0.797495</td>\n",
       "      <td>0.809399</td>\n",
       "      <td>0.303559</td>\n",
       "      <td>0.781664</td>\n",
       "      <td>...</td>\n",
       "      <td>0.828565</td>\n",
       "      <td>0.001621</td>\n",
       "      <td>0.623379</td>\n",
       "      <td>0.602735</td>\n",
       "      <td>0.843240</td>\n",
       "      <td>0.282201</td>\n",
       "      <td>0.026865</td>\n",
       "      <td>0.565489</td>\n",
       "      <td>1</td>\n",
       "      <td>0.023104</td>\n",
       "    </tr>\n",
       "    <tr>\n",
       "      <th>4</th>\n",
       "      <td>0.608980</td>\n",
       "      <td>0.658689</td>\n",
       "      <td>0.655174</td>\n",
       "      <td>0.612491</td>\n",
       "      <td>0.613183</td>\n",
       "      <td>0.999193</td>\n",
       "      <td>0.798374</td>\n",
       "      <td>0.810111</td>\n",
       "      <td>0.304774</td>\n",
       "      <td>0.782440</td>\n",
       "      <td>...</td>\n",
       "      <td>0.867959</td>\n",
       "      <td>0.010567</td>\n",
       "      <td>0.621156</td>\n",
       "      <td>0.612491</td>\n",
       "      <td>0.843773</td>\n",
       "      <td>0.275537</td>\n",
       "      <td>0.026791</td>\n",
       "      <td>0.565158</td>\n",
       "      <td>1</td>\n",
       "      <td>0.123342</td>\n",
       "    </tr>\n",
       "  </tbody>\n",
       "</table>\n",
       "<p>5 rows × 95 columns</p>\n",
       "</div>"
      ],
      "text/plain": [
       "    ROA(C) before interest and depreciation before interest  \\\n",
       "0                                           0.547409          \n",
       "1                                           0.575196          \n",
       "2                                           0.490567          \n",
       "3                                           0.543899          \n",
       "4                                           0.608980          \n",
       "\n",
       "    ROA(A) before interest and % after tax  \\\n",
       "0                                 0.597580   \n",
       "1                                 0.622928   \n",
       "2                                 0.552933   \n",
       "3                                 0.598779   \n",
       "4                                 0.658689   \n",
       "\n",
       "    ROA(B) before interest and depreciation after tax  \\\n",
       "0                                           0.583757    \n",
       "1                                           0.609187    \n",
       "2                                           0.539483    \n",
       "3                                           0.593180    \n",
       "4                                           0.655174    \n",
       "\n",
       "    Operating Gross Margin   Realized Sales Gross Margin  \\\n",
       "0                 0.604707                      0.604707   \n",
       "1                 0.606142                      0.606142   \n",
       "2                 0.629665                      0.629520   \n",
       "3                 0.602740                      0.602754   \n",
       "4                 0.612491                      0.613183   \n",
       "\n",
       "    Operating Profit Rate   Pre-tax net Interest Rate  \\\n",
       "0                0.999089                    0.797593   \n",
       "1                0.999085                    0.797859   \n",
       "2                0.999108                    0.797607   \n",
       "3                0.999041                    0.797495   \n",
       "4                0.999193                    0.798374   \n",
       "\n",
       "    After-tax net Interest Rate   Non-industry income and expenditure/revenue  \\\n",
       "0                      0.809456                                      0.303629   \n",
       "1                      0.809654                                      0.304102   \n",
       "2                      0.809484                                      0.303613   \n",
       "3                      0.809399                                      0.303559   \n",
       "4                      0.810111                                      0.304774   \n",
       "\n",
       "    Continuous interest rate (after tax)  ...   Net Income to Total Assets  \\\n",
       "0                               0.781726  ...                     0.831586   \n",
       "1                               0.781934  ...                     0.845096   \n",
       "2                               0.781755  ...                     0.810341   \n",
       "3                               0.781664  ...                     0.828565   \n",
       "4                               0.782440  ...                     0.867959   \n",
       "\n",
       "    Total assets to GNP price   No-credit Interval   Gross Profit to Sales  \\\n",
       "0                    0.001479             0.624287                0.604706   \n",
       "1                    0.001891             0.624553                0.606139   \n",
       "2                    0.001115             0.624214                0.629664   \n",
       "3                    0.001621             0.623379                0.602735   \n",
       "4                    0.010567             0.621156                0.612491   \n",
       "\n",
       "    Net Income to Stockholder's Equity   Liability to Equity  \\\n",
       "0                             0.842928              0.279743   \n",
       "1                             0.843117              0.277089   \n",
       "2                             0.840741              0.275084   \n",
       "3                             0.843240              0.282201   \n",
       "4                             0.843773              0.275537   \n",
       "\n",
       "    Degree of Financial Leverage (DFL)  \\\n",
       "0                             0.026801   \n",
       "1                             0.026791   \n",
       "2                             0.026791   \n",
       "3                             0.026865   \n",
       "4                             0.026791   \n",
       "\n",
       "    Interest Coverage Ratio (Interest expense to EBIT)   Net Income Flag  \\\n",
       "0                                           0.565205                   1   \n",
       "1                                           0.565159                   1   \n",
       "2                                           0.565158                   1   \n",
       "3                                           0.565489                   1   \n",
       "4                                           0.565158                   1   \n",
       "\n",
       "    Equity to Liability  \n",
       "0              0.029354  \n",
       "1              0.050445  \n",
       "2              0.250781  \n",
       "3              0.023104  \n",
       "4              0.123342  \n",
       "\n",
       "[5 rows x 95 columns]"
      ]
     },
     "execution_count": 13,
     "metadata": {},
     "output_type": "execute_result"
    }
   ],
   "source": [
    "#fitting into the training data\n",
    "x_train_under, y_train_under= under_sampler.fit_resample(x_train, y_train)\n",
    "x_train_under.head()"
   ]
  },
  {
   "cell_type": "markdown",
   "id": "731ca860",
   "metadata": {},
   "source": [
    "creating a new feature matrix x_train_over and target vector y_train_over by performing random over sampling on training"
   ]
  },
  {
   "cell_type": "code",
   "execution_count": 14,
   "id": "a24f4d9e",
   "metadata": {},
   "outputs": [],
   "source": [
    "#instantiate random sample\n",
    "over_sampler= RandomOverSampler(random_state=42)"
   ]
  },
  {
   "cell_type": "code",
   "execution_count": 15,
   "id": "1b208eb2",
   "metadata": {},
   "outputs": [
    {
     "data": {
      "text/html": [
       "<div>\n",
       "<style scoped>\n",
       "    .dataframe tbody tr th:only-of-type {\n",
       "        vertical-align: middle;\n",
       "    }\n",
       "\n",
       "    .dataframe tbody tr th {\n",
       "        vertical-align: top;\n",
       "    }\n",
       "\n",
       "    .dataframe thead th {\n",
       "        text-align: right;\n",
       "    }\n",
       "</style>\n",
       "<table border=\"1\" class=\"dataframe\">\n",
       "  <thead>\n",
       "    <tr style=\"text-align: right;\">\n",
       "      <th></th>\n",
       "      <th>ROA(C) before interest and depreciation before interest</th>\n",
       "      <th>ROA(A) before interest and % after tax</th>\n",
       "      <th>ROA(B) before interest and depreciation after tax</th>\n",
       "      <th>Operating Gross Margin</th>\n",
       "      <th>Realized Sales Gross Margin</th>\n",
       "      <th>Operating Profit Rate</th>\n",
       "      <th>Pre-tax net Interest Rate</th>\n",
       "      <th>After-tax net Interest Rate</th>\n",
       "      <th>Non-industry income and expenditure/revenue</th>\n",
       "      <th>Continuous interest rate (after tax)</th>\n",
       "      <th>...</th>\n",
       "      <th>Net Income to Total Assets</th>\n",
       "      <th>Total assets to GNP price</th>\n",
       "      <th>No-credit Interval</th>\n",
       "      <th>Gross Profit to Sales</th>\n",
       "      <th>Net Income to Stockholder's Equity</th>\n",
       "      <th>Liability to Equity</th>\n",
       "      <th>Degree of Financial Leverage (DFL)</th>\n",
       "      <th>Interest Coverage Ratio (Interest expense to EBIT)</th>\n",
       "      <th>Net Income Flag</th>\n",
       "      <th>Equity to Liability</th>\n",
       "    </tr>\n",
       "  </thead>\n",
       "  <tbody>\n",
       "    <tr>\n",
       "      <th>0</th>\n",
       "      <td>0.498513</td>\n",
       "      <td>0.542848</td>\n",
       "      <td>0.544622</td>\n",
       "      <td>0.599194</td>\n",
       "      <td>0.599036</td>\n",
       "      <td>0.998986</td>\n",
       "      <td>0.797412</td>\n",
       "      <td>0.809330</td>\n",
       "      <td>0.303528</td>\n",
       "      <td>0.781593</td>\n",
       "      <td>...</td>\n",
       "      <td>0.801313</td>\n",
       "      <td>0.005821</td>\n",
       "      <td>0.623649</td>\n",
       "      <td>0.599196</td>\n",
       "      <td>0.840580</td>\n",
       "      <td>0.282564</td>\n",
       "      <td>0.027239</td>\n",
       "      <td>0.566658</td>\n",
       "      <td>1</td>\n",
       "      <td>0.022512</td>\n",
       "    </tr>\n",
       "    <tr>\n",
       "      <th>1</th>\n",
       "      <td>0.506606</td>\n",
       "      <td>0.562309</td>\n",
       "      <td>0.558863</td>\n",
       "      <td>0.609334</td>\n",
       "      <td>0.609334</td>\n",
       "      <td>0.999027</td>\n",
       "      <td>0.797450</td>\n",
       "      <td>0.809375</td>\n",
       "      <td>0.303508</td>\n",
       "      <td>0.781637</td>\n",
       "      <td>...</td>\n",
       "      <td>0.810914</td>\n",
       "      <td>0.000481</td>\n",
       "      <td>0.623932</td>\n",
       "      <td>0.609332</td>\n",
       "      <td>0.841339</td>\n",
       "      <td>0.280570</td>\n",
       "      <td>0.026843</td>\n",
       "      <td>0.565395</td>\n",
       "      <td>1</td>\n",
       "      <td>0.026670</td>\n",
       "    </tr>\n",
       "    <tr>\n",
       "      <th>2</th>\n",
       "      <td>0.508799</td>\n",
       "      <td>0.561001</td>\n",
       "      <td>0.554687</td>\n",
       "      <td>0.614242</td>\n",
       "      <td>0.614055</td>\n",
       "      <td>0.999094</td>\n",
       "      <td>0.797533</td>\n",
       "      <td>0.809424</td>\n",
       "      <td>0.303514</td>\n",
       "      <td>0.781692</td>\n",
       "      <td>...</td>\n",
       "      <td>0.809740</td>\n",
       "      <td>0.001397</td>\n",
       "      <td>0.623714</td>\n",
       "      <td>0.614241</td>\n",
       "      <td>0.840969</td>\n",
       "      <td>0.277772</td>\n",
       "      <td>0.026864</td>\n",
       "      <td>0.565484</td>\n",
       "      <td>1</td>\n",
       "      <td>0.041556</td>\n",
       "    </tr>\n",
       "    <tr>\n",
       "      <th>3</th>\n",
       "      <td>0.499976</td>\n",
       "      <td>0.562527</td>\n",
       "      <td>0.546764</td>\n",
       "      <td>0.597825</td>\n",
       "      <td>0.597825</td>\n",
       "      <td>0.999004</td>\n",
       "      <td>0.797411</td>\n",
       "      <td>0.809329</td>\n",
       "      <td>0.303490</td>\n",
       "      <td>0.781590</td>\n",
       "      <td>...</td>\n",
       "      <td>0.810082</td>\n",
       "      <td>0.000998</td>\n",
       "      <td>0.623986</td>\n",
       "      <td>0.597824</td>\n",
       "      <td>0.841885</td>\n",
       "      <td>0.286871</td>\n",
       "      <td>0.026951</td>\n",
       "      <td>0.565820</td>\n",
       "      <td>1</td>\n",
       "      <td>0.018173</td>\n",
       "    </tr>\n",
       "    <tr>\n",
       "      <th>4</th>\n",
       "      <td>0.477892</td>\n",
       "      <td>0.547700</td>\n",
       "      <td>0.529150</td>\n",
       "      <td>0.600362</td>\n",
       "      <td>0.600362</td>\n",
       "      <td>0.998975</td>\n",
       "      <td>0.797412</td>\n",
       "      <td>0.809333</td>\n",
       "      <td>0.303551</td>\n",
       "      <td>0.781584</td>\n",
       "      <td>...</td>\n",
       "      <td>0.804638</td>\n",
       "      <td>0.002826</td>\n",
       "      <td>0.623845</td>\n",
       "      <td>0.600363</td>\n",
       "      <td>0.840885</td>\n",
       "      <td>0.282073</td>\n",
       "      <td>0.026959</td>\n",
       "      <td>0.565848</td>\n",
       "      <td>1</td>\n",
       "      <td>0.023328</td>\n",
       "    </tr>\n",
       "  </tbody>\n",
       "</table>\n",
       "<p>5 rows × 95 columns</p>\n",
       "</div>"
      ],
      "text/plain": [
       "    ROA(C) before interest and depreciation before interest  \\\n",
       "0                                           0.498513          \n",
       "1                                           0.506606          \n",
       "2                                           0.508799          \n",
       "3                                           0.499976          \n",
       "4                                           0.477892          \n",
       "\n",
       "    ROA(A) before interest and % after tax  \\\n",
       "0                                 0.542848   \n",
       "1                                 0.562309   \n",
       "2                                 0.561001   \n",
       "3                                 0.562527   \n",
       "4                                 0.547700   \n",
       "\n",
       "    ROA(B) before interest and depreciation after tax  \\\n",
       "0                                           0.544622    \n",
       "1                                           0.558863    \n",
       "2                                           0.554687    \n",
       "3                                           0.546764    \n",
       "4                                           0.529150    \n",
       "\n",
       "    Operating Gross Margin   Realized Sales Gross Margin  \\\n",
       "0                 0.599194                      0.599036   \n",
       "1                 0.609334                      0.609334   \n",
       "2                 0.614242                      0.614055   \n",
       "3                 0.597825                      0.597825   \n",
       "4                 0.600362                      0.600362   \n",
       "\n",
       "    Operating Profit Rate   Pre-tax net Interest Rate  \\\n",
       "0                0.998986                    0.797412   \n",
       "1                0.999027                    0.797450   \n",
       "2                0.999094                    0.797533   \n",
       "3                0.999004                    0.797411   \n",
       "4                0.998975                    0.797412   \n",
       "\n",
       "    After-tax net Interest Rate   Non-industry income and expenditure/revenue  \\\n",
       "0                      0.809330                                      0.303528   \n",
       "1                      0.809375                                      0.303508   \n",
       "2                      0.809424                                      0.303514   \n",
       "3                      0.809329                                      0.303490   \n",
       "4                      0.809333                                      0.303551   \n",
       "\n",
       "    Continuous interest rate (after tax)  ...   Net Income to Total Assets  \\\n",
       "0                               0.781593  ...                     0.801313   \n",
       "1                               0.781637  ...                     0.810914   \n",
       "2                               0.781692  ...                     0.809740   \n",
       "3                               0.781590  ...                     0.810082   \n",
       "4                               0.781584  ...                     0.804638   \n",
       "\n",
       "    Total assets to GNP price   No-credit Interval   Gross Profit to Sales  \\\n",
       "0                    0.005821             0.623649                0.599196   \n",
       "1                    0.000481             0.623932                0.609332   \n",
       "2                    0.001397             0.623714                0.614241   \n",
       "3                    0.000998             0.623986                0.597824   \n",
       "4                    0.002826             0.623845                0.600363   \n",
       "\n",
       "    Net Income to Stockholder's Equity   Liability to Equity  \\\n",
       "0                             0.840580              0.282564   \n",
       "1                             0.841339              0.280570   \n",
       "2                             0.840969              0.277772   \n",
       "3                             0.841885              0.286871   \n",
       "4                             0.840885              0.282073   \n",
       "\n",
       "    Degree of Financial Leverage (DFL)  \\\n",
       "0                             0.027239   \n",
       "1                             0.026843   \n",
       "2                             0.026864   \n",
       "3                             0.026951   \n",
       "4                             0.026959   \n",
       "\n",
       "    Interest Coverage Ratio (Interest expense to EBIT)   Net Income Flag  \\\n",
       "0                                           0.566658                   1   \n",
       "1                                           0.565395                   1   \n",
       "2                                           0.565484                   1   \n",
       "3                                           0.565820                   1   \n",
       "4                                           0.565848                   1   \n",
       "\n",
       "    Equity to Liability  \n",
       "0              0.022512  \n",
       "1              0.026670  \n",
       "2              0.041556  \n",
       "3              0.018173  \n",
       "4              0.023328  \n",
       "\n",
       "[5 rows x 95 columns]"
      ]
     },
     "execution_count": 15,
     "metadata": {},
     "output_type": "execute_result"
    }
   ],
   "source": [
    "#fitting into the training data\n",
    "x_train_over, y_train_over= over_sampler.fit_resample(x_train, y_train)\n",
    "x_train_over.head()"
   ]
  },
  {
   "cell_type": "markdown",
   "id": "f4bba0e9",
   "metadata": {},
   "source": [
    "*** Building model ***"
   ]
  },
  {
   "cell_type": "code",
   "execution_count": 16,
   "id": "fc8bf107",
   "metadata": {},
   "outputs": [
    {
     "name": "stdout",
     "output_type": "stream",
     "text": [
      "Baseline Accuracy: 0.97\n"
     ]
    }
   ],
   "source": [
    "#calculating baseline accuracy\n",
    "acc_baseline= y_train.value_counts(normalize=True).max()\n",
    "print(\"Baseline Accuracy:\", round(acc_baseline,2))"
   ]
  },
  {
   "cell_type": "markdown",
   "id": "bcb3ebef",
   "metadata": {},
   "source": [
    "*** Iterate ***\n",
    "\n",
    "\n",
    "\n",
    "creating three identical model for regular x train, over and under sampled data"
   ]
  },
  {
   "cell_type": "code",
   "execution_count": 17,
   "id": "5e19b186",
   "metadata": {},
   "outputs": [
    {
     "data": {
      "text/plain": [
       "Pipeline(steps=[('simpleimputer', SimpleImputer(strategy='median')),\n",
       "                ('decisiontreeclassifier',\n",
       "                 DecisionTreeClassifier(random_state=42))])"
      ]
     },
     "execution_count": 17,
     "metadata": {},
     "output_type": "execute_result"
    }
   ],
   "source": [
    "#instantiate our model to regular data\n",
    "model_reg= make_pipeline(SimpleImputer(strategy=\"median\"),DecisionTreeClassifier(random_state=42))\n",
    "#fitting the model to the data\n",
    "model_reg.fit(x_train, y_train)"
   ]
  },
  {
   "cell_type": "code",
   "execution_count": 18,
   "id": "b80f5783",
   "metadata": {},
   "outputs": [
    {
     "data": {
      "text/plain": [
       "Pipeline(steps=[('simpleimputer', SimpleImputer(strategy='median')),\n",
       "                ('decisiontreeclassifier',\n",
       "                 DecisionTreeClassifier(random_state=42))])"
      ]
     },
     "execution_count": 18,
     "metadata": {},
     "output_type": "execute_result"
    }
   ],
   "source": [
    "#instantiate our model to under data\n",
    "model_under= make_pipeline(SimpleImputer(strategy=\"median\"),DecisionTreeClassifier(random_state=42))\n",
    "#fitting the model to the under sampled data\n",
    "model_under.fit(x_train_under, y_train_under)"
   ]
  },
  {
   "cell_type": "code",
   "execution_count": 19,
   "id": "300a62e4",
   "metadata": {},
   "outputs": [
    {
     "data": {
      "text/plain": [
       "Pipeline(steps=[('simpleimputer', SimpleImputer(strategy='median')),\n",
       "                ('decisiontreeclassifier',\n",
       "                 DecisionTreeClassifier(random_state=42))])"
      ]
     },
     "execution_count": 19,
     "metadata": {},
     "output_type": "execute_result"
    }
   ],
   "source": [
    "#instantiate our model to under data\n",
    "model_over= make_pipeline(SimpleImputer(strategy=\"median\"),DecisionTreeClassifier(random_state=42))\n",
    "#fitting the model to the under sampled data\n",
    "model_over.fit(x_train_over, y_train_over)"
   ]
  },
  {
   "cell_type": "markdown",
   "id": "5307f2b0",
   "metadata": {},
   "source": [
    "*** Evaluating ***\n"
   ]
  },
  {
   "cell_type": "code",
   "execution_count": 20,
   "id": "363886a2",
   "metadata": {},
   "outputs": [
    {
     "name": "stdout",
     "output_type": "stream",
     "text": [
      "Training Accuracy: 100.0 %\n",
      "Test Accuracy: 96.0 %\n"
     ]
    }
   ],
   "source": [
    "#calculating our training and test accuracy for the three models\n",
    "for m in [model_reg, model_under, model_over]:\n",
    "    acc_train= m.score(x_train, y_train)\n",
    "    acc_test= m.score(x_test, y_test)\n",
    "print(\"Training Accuracy:\", round(acc_train,2)*100,\"%\")\n",
    "print(\"Test Accuracy:\", round(acc_test, 3)*100,\"%\")"
   ]
  },
  {
   "cell_type": "markdown",
   "id": "d9594474",
   "metadata": {},
   "source": [
    "plotting a confusion matrix"
   ]
  },
  {
   "cell_type": "code",
   "execution_count": 21,
   "id": "1c421c84",
   "metadata": {},
   "outputs": [
    {
     "data": {
      "image/png": "[encoded data removed]",
      "text/plain": [
       "<Figure size 432x288 with 2 Axes>"
      ]
     },
     "metadata": {
      "needs_background": "light"
     },
     "output_type": "display_data"
    }
   ],
   "source": [
    "ConfusionMatrixDisplay.from_estimator(model_reg, x_test, y_test);"
   ]
  },
  {
   "cell_type": "code",
   "execution_count": 22,
   "id": "d95dc160",
   "metadata": {},
   "outputs": [
    {
     "name": "stdout",
     "output_type": "stream",
     "text": [
      "53\n"
     ]
    }
   ],
   "source": [
    "#Determining the depth of decision tree in the model_over\n",
    "depth= model_over.named_steps[\"decisiontreeclassifier\"].get_depth()\n",
    "print(depth)"
   ]
  },
  {
   "cell_type": "code",
   "execution_count": 23,
   "id": "29bd85aa",
   "metadata": {},
   "outputs": [
    {
     "name": "stdout",
     "output_type": "stream",
     "text": [
      "11\n"
     ]
    }
   ],
   "source": [
    "#Determining the depth of decision tree in the model_under\n",
    "depth_under= model_under.named_steps[\"decisiontreeclassifier\"].get_depth()\n",
    "print(depth_under)"
   ]
  },
  {
   "cell_type": "markdown",
   "id": "76467a31",
   "metadata": {},
   "source": [
    "*** Communicating results ***"
   ]
  },
  {
   "cell_type": "code",
   "execution_count": 24,
   "id": "788b3873",
   "metadata": {},
   "outputs": [
    {
     "data": {
      "image/png": "[encoded data removed]",
      "text/plain": [
       "<Figure size 432x288 with 1 Axes>"
      ]
     },
     "metadata": {
      "needs_background": "light"
     },
     "output_type": "display_data"
    }
   ],
   "source": [
    "#creating a horizontal bar chart for first 15 most important features for model_over\n",
    "#get importances\n",
    "importances= model_over.named_steps[\"decisiontreeclassifier\"].feature_importances_\n",
    "#putting importances in a series\n",
    "feat_imp= pd.Series(importances, index= x_train_over.columns).sort_values()\n",
    "#plot Series\n",
    "feat_imp.tail(15).plot(kind=\"barh\")\n",
    "plt.xlabel(\"Importance\")\n",
    "plt.ylabel(\"Features\")\n",
    "plt.title(\"Model_over Feature Importance\");"
   ]
  },
  {
   "cell_type": "code",
   "execution_count": 25,
   "id": "69363f21",
   "metadata": {},
   "outputs": [
    {
     "data": {
      "image/png": "[encoded data removed]",
      "text/plain": [
       "<Figure size 432x288 with 1 Axes>"
      ]
     },
     "metadata": {
      "needs_background": "light"
     },
     "output_type": "display_data"
    }
   ],
   "source": [
    "#creating a horizontal bar chart for first 15 most important features for model_under\n",
    "#get importances\n",
    "importances_under= model_under.named_steps[\"decisiontreeclassifier\"].feature_importances_\n",
    "#putting importances in a series\n",
    "feat_imp_under= pd.Series(importances_under, index= x_train_under.columns).sort_values()\n",
    "#plot Series\n",
    "feat_imp_under.tail(15).plot(kind=\"barh\")\n",
    "plt.xlabel(\"Importance\")\n",
    "plt.ylabel(\"Features\")\n",
    "plt.title(\"Model_under Feature Importance\");"
   ]
  },
  {
   "cell_type": "markdown",
   "id": "683cb020",
   "metadata": {},
   "source": [
    "*** Using Random Forrest ***"
   ]
  },
  {
   "cell_type": "markdown",
   "id": "e2d6c866",
   "metadata": {},
   "source": [
    "Oversampling"
   ]
  },
  {
   "cell_type": "code",
   "execution_count": 26,
   "id": "ab53ec38",
   "metadata": {},
   "outputs": [
    {
     "name": "stdout",
     "output_type": "stream",
     "text": [
      "Pipeline(steps=[('simpleimputer', SimpleImputer()),\n",
      "                ('randomforestclassifier',\n",
      "                 RandomForestClassifier(random_state=42))])\n"
     ]
    }
   ],
   "source": [
    "\"\"\"Iterate\"\"\"\n",
    "clf= make_pipeline(SimpleImputer(), RandomForestClassifier(random_state=42))\n",
    "print(clf)"
   ]
  },
  {
   "cell_type": "code",
   "execution_count": 27,
   "id": "f0d90e84",
   "metadata": {},
   "outputs": [
    {
     "name": "stdout",
     "output_type": "stream",
     "text": [
      "[0.99338061 0.99432624 0.99432356 0.99668874 0.99432356]\n"
     ]
    }
   ],
   "source": [
    "#performing k-fold cross validation\n",
    "cv_acc_scores= cross_val_score(clf, x_train_over, y_train_over, cv=5, n_jobs=-1)\n",
    "print(cv_acc_scores)"
   ]
  },
  {
   "cell_type": "code",
   "execution_count": 28,
   "id": "5346ba0b",
   "metadata": {},
   "outputs": [
    {
     "data": {
      "text/plain": [
       "RandomForestClassifier(criterion='entropy', n_estimators=10, random_state=42)"
      ]
     },
     "execution_count": 28,
     "metadata": {},
     "output_type": "execute_result"
    }
   ],
   "source": [
    "#instantiating RandomForestClassifier \n",
    "classifier = RandomForestClassifier(n_estimators = 10, criterion = 'entropy', random_state = 42)\n",
    "#fitting random forest classifier to training data\n",
    "classifier.fit(x_train, y_train)"
   ]
  },
  {
   "cell_type": "code",
   "execution_count": 29,
   "id": "68871a6f",
   "metadata": {},
   "outputs": [
    {
     "name": "stdout",
     "output_type": "stream",
     "text": [
      "Test Accuracy: 96.6 %\n"
     ]
    }
   ],
   "source": [
    "#making predictions\n",
    "y_pred = classifier.predict(x_test)\n",
    "#calculating predictions accuracy score\n",
    "acc = accuracy_score(y_test, y_pred)\n",
    "print(\"Test Accuracy:\", round(acc, 3)*100,\"%\")"
   ]
  },
  {
   "cell_type": "code",
   "execution_count": 30,
   "id": "8f53b2ba",
   "metadata": {},
   "outputs": [
    {
     "data": {
      "image/png": "[encoded data removed]",
      "text/plain": [
       "<Figure size 432x288 with 2 Axes>"
      ]
     },
     "metadata": {
      "needs_background": "light"
     },
     "output_type": "display_data"
    }
   ],
   "source": [
    "ConfusionMatrixDisplay.from_estimator(classifier, x_test, y_test);"
   ]
  },
  {
   "cell_type": "markdown",
   "id": "f4f1dc4d",
   "metadata": {},
   "source": [
    "*** Using Support Vector Machine***"
   ]
  },
  {
   "cell_type": "code",
   "execution_count": 31,
   "id": "ee51c7c5",
   "metadata": {},
   "outputs": [
    {
     "data": {
      "text/plain": [
       "SVC(random_state=42)"
      ]
     },
     "execution_count": 31,
     "metadata": {},
     "output_type": "execute_result"
    }
   ],
   "source": [
    "#instantiating svc\n",
    "classifier_svc = SVC(random_state = 42)\n",
    "#fitting the model to training data\n",
    "classifier_svc.fit(x_train, y_train)"
   ]
  },
  {
   "cell_type": "code",
   "execution_count": 32,
   "id": "29552c90",
   "metadata": {},
   "outputs": [],
   "source": [
    "#predicting results with svc\n",
    "y_pred_svc = classifier_svc.predict(x_test)"
   ]
  },
  {
   "cell_type": "code",
   "execution_count": 33,
   "id": "703ab5ad",
   "metadata": {},
   "outputs": [
    {
     "name": "stdout",
     "output_type": "stream",
     "text": [
      "Test Accuracy: 96.6 %\n"
     ]
    }
   ],
   "source": [
    "#calculating predictions accuracy score\n",
    "acc_svc = accuracy_score(y_test, y_pred_svc)\n",
    "print(\"Test Accuracy:\", round(acc, 3)*100,\"%\")"
   ]
  },
  {
   "cell_type": "code",
   "execution_count": 34,
   "id": "72770b4f",
   "metadata": {},
   "outputs": [
    {
     "data": {
      "image/png": "[encoded data removed]",
      "text/plain": [
       "<Figure size 432x288 with 2 Axes>"
      ]
     },
     "metadata": {
      "needs_background": "light"
     },
     "output_type": "display_data"
    }
   ],
   "source": [
    "ConfusionMatrixDisplay.from_estimator(classifier_svc, x_test, y_test);"
   ]
  },
  {
   "cell_type": "code",
   "execution_count": 35,
   "id": "cccddcc2",
   "metadata": {},
   "outputs": [
    {
     "name": "stderr",
     "output_type": "stream",
     "text": [
      "C:\\Users\\HP\\anaconda3\\lib\\site-packages\\sklearn\\linear_model\\_logistic.py:814: ConvergenceWarning: lbfgs failed to converge (status=1):\n",
      "STOP: TOTAL NO. of ITERATIONS REACHED LIMIT.\n",
      "\n",
      "Increase the number of iterations (max_iter) or scale the data as shown in:\n",
      "    https://scikit-learn.org/stable/modules/preprocessing.html\n",
      "Please also refer to the documentation for alternative solver options:\n",
      "    https://scikit-learn.org/stable/modules/linear_model.html#logistic-regression\n",
      "  n_iter_i = _check_optimize_result(\n"
     ]
    },
    {
     "data": {
      "text/plain": [
       "LogisticRegression(random_state=42)"
      ]
     },
     "execution_count": 35,
     "metadata": {},
     "output_type": "execute_result"
    }
   ],
   "source": [
    "\"\"\"Using Logistic Regression\"\"\"\n",
    "classifier_lr = LogisticRegression(random_state = 42)\n",
    "classifier_lr.fit(x_train, y_train)"
   ]
  },
  {
   "cell_type": "code",
   "execution_count": 36,
   "id": "5a0481df",
   "metadata": {},
   "outputs": [],
   "source": [
    "#making predictions with logistic regression model\n",
    "y_pred_lr = classifier_lr.predict(x_test)"
   ]
  },
  {
   "cell_type": "code",
   "execution_count": 37,
   "id": "007073db",
   "metadata": {},
   "outputs": [
    {
     "name": "stdout",
     "output_type": "stream",
     "text": [
      "Test Accuracy: 96.6 %\n"
     ]
    }
   ],
   "source": [
    "#calculating predictions accuracy score\n",
    "acc_lr = accuracy_score(y_test, y_pred_lr)\n",
    "print(\"Test Accuracy:\", round(acc, 3)*100,\"%\")"
   ]
  },
  {
   "cell_type": "code",
   "execution_count": 38,
   "id": "6d875377",
   "metadata": {},
   "outputs": [
    {
     "data": {
      "image/png": "[encoded data removed]",
      "text/plain": [
       "<Figure size 432x288 with 2 Axes>"
      ]
     },
     "metadata": {
      "needs_background": "light"
     },
     "output_type": "display_data"
    }
   ],
   "source": [
    "#plotting confusion matrix\n",
    "ConfusionMatrixDisplay.from_estimator(classifier_lr, x_test, y_test);"
   ]
  },
  {
   "cell_type": "code",
   "execution_count": null,
   "id": "312c4d93",
   "metadata": {},
   "outputs": [],
   "source": []
  }
 ],
 "metadata": {
  "kernelspec": {
   "display_name": "Python 3 (ipykernel)",
   "language": "python",
   "name": "python3"
  },
  "language_info": {
   "codemirror_mode": {
    "name": "ipython",
    "version": 3
   },
   "file_extension": ".py",
   "mimetype": "text/x-python",
   "name": "python",
   "nbconvert_exporter": "python",
   "pygments_lexer": "ipython3",
   "version": "3.9.12"
  }
 },
 "nbformat": 4,
 "nbformat_minor": 5
}
